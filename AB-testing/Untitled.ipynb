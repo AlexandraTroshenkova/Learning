{
 "cells": [
  {
   "cell_type": "code",
   "execution_count": 30,
   "id": "cce1dd6b",
   "metadata": {},
   "outputs": [],
   "source": [
    "import pandas as pd\n",
    "import numpy as np\n",
    "import os\n",
    "import datetime as dt\n",
    "from datetime import datetime\n",
    "import seaborn as sns\n",
    "import matplotlib as plt\n",
    "from scipy import stats\n",
    "from scipy.stats import norm, ttest_ind"
   ]
  },
  {
   "cell_type": "code",
   "execution_count": 2,
   "id": "890edb84",
   "metadata": {},
   "outputs": [],
   "source": [
    "URL_BASE = 'https://raw.githubusercontent.com/ab-courses/simulator-ab-datasets/main/2022-04-01/'\n",
    "\n",
    "def read_database(file_name):\n",
    "    return pd.read_csv(os.path.join(URL_BASE, file_name))"
   ]
  },
  {
   "cell_type": "code",
   "execution_count": 3,
   "id": "d8bcaacb",
   "metadata": {},
   "outputs": [],
   "source": [
    "# Read data and change column \"date\" to datetime type\n",
    "df_sales_detail = read_database('2022-04-01T12_df_sales_detail.csv')\n",
    "df_sales_detail['date'] = pd.to_datetime(df_sales_detail['date'])"
   ]
  },
  {
   "cell_type": "code",
   "execution_count": 26,
   "id": "1694b49b",
   "metadata": {},
   "outputs": [
    {
     "name": "stdout",
     "output_type": "stream",
     "text": [
      "Ответ: ['chicken bbq pizza', 'double pepperoni pizza', 'chefs pizza']\n"
     ]
    }
   ],
   "source": [
    "# Задание 1 решение\n",
    "top_3_revenue = (\n",
    "    df_sales_detail\n",
    "    .groupby('good')['price'].sum()\n",
    "    .sort_values()[-3:].index.tolist()\n",
    ")\n",
    "print('Ответ:', top_3_revenue)"
   ]
  },
  {
   "cell_type": "code",
   "execution_count": 27,
   "id": "f8e2f272",
   "metadata": {},
   "outputs": [],
   "source": [
    "# Задание 2\n",
    "df_sales = read_database('2022-04-01T12_df_sales.csv')\n",
    "df_web_logs = read_database('2022-04-01T12_df_web_logs.csv')\n",
    "df_web_logs['date'] = pd.to_datetime(df_web_logs['date'])\n",
    "df_sales['date'] = pd.to_datetime(df_sales['date'])\n",
    "df_sales['day'] = df_sales['date'].dt.date\n",
    "df_s = df_sales.groupby(['user_id', 'date'], as_index=False).agg({'price':'sum'})\n",
    "df_lg = df_web_logs.groupby(['user_id', 'date'], as_index=False).agg({'page':'count'})\n",
    "df_full = df_s.merge(df_lg, how = 'left', on = 'user_id')\n",
    "df_full['delta'] = df_full.date_x - df_full.date_y\n",
    "df_full['delta_days'] = df_full.delta.dt.days\n",
    "df_full_p = df_full[df_full.delta_days == 0]\n",
    "df = df_full_p[df_full_p.delta.dt.seconds <= 7200]\n",
    "df_final = df.groupby(['user_id', 'date_x'], as_index=False).agg({'delta':'max'})\n",
    "round((df_final.delta.dt.seconds.mean() / 60),0)"
   ]
  },
  {
   "cell_type": "code",
   "execution_count": 31,
   "id": "b0c31b0d",
   "metadata": {},
   "outputs": [],
   "source": [
    "# Задание 2 решение\n",
    "from datetime import timedelta\n",
    "\n",
    "# объединяем таблицы с покупками и логами по пользователям\n",
    "# оставляем только user_id и времена\n",
    "df = pd.merge(\n",
    "    df_sales[['user_id', 'date']].rename(columns={'date': 'date_sale'}),\n",
    "    df_web_logs[['user_id', 'date']].rename(columns={'date': 'date_web'}),\n",
    "    on='user_id',\n",
    "    how='inner'\n",
    ")\n",
    "\n",
    "# удаляем строки, в которых заход на сайт ранее 2 часов до покупки или после покупки\n",
    "df = df[\n",
    "    (df['date_web'] >= df['date_sale'] - timedelta(hours=2))\n",
    "    & (df['date_web'] < df['date_sale'])\n",
    "].copy()\n",
    "# определяем время первого захода на сайт для покупки\n",
    "df_first_web = df.groupby(['user_id', 'date_sale'])[['date_web']].min().reset_index()\n",
    "# вычисляем время в секундах\n",
    "df_first_web['delta'] = (df_first_web['date_sale'] - df_first_web['date_web']).dt.total_seconds()\n",
    "\n",
    "# считаем среднее время и переводим в минуты\n",
    "answer = round(df_first_web['delta'].mean() / 60)\n",
    "print('answer:', answer)"
   ]
  },
  {
   "cell_type": "code",
   "execution_count": 18,
   "id": "7fe92688",
   "metadata": {
    "scrolled": true
   },
   "outputs": [],
   "source": [
    "# Задание 3\n",
    "df_sales = read_database('2022-04-01T12_df_sales.csv')\n",
    "df_sales['date'] = pd.to_datetime(df_sales['date'])\n",
    "df_sales['month'] = df_sales['date'].dt.month\n",
    "df = df_sales.query('month == 2 or month ==3').groupby(['user_id', 'month'], as_index=False).agg({'sale_id':'nunique'})\n",
    "df_1 = df.groupby('user_id', as_index=False).agg({'month': 'count'})\n",
    "df_1[df_1.month == 2].user_id.count() / df[df.month == 2].user_id.count()"
   ]
  },
  {
   "cell_type": "code",
   "execution_count": null,
   "id": "470347c6",
   "metadata": {},
   "outputs": [],
   "source": [
    "# Задание 3 Решение\n",
    "# добавляем столбец с месяцем\n",
    "df_sales['month'] = df_sales['date'].dt.month\n",
    "# пользователи с покупкой в феврале\n",
    "users_feb = df_sales[df_sales['month'] == 2]['user_id'].unique().tolist()\n",
    "# пользователи с покупкой в марте\n",
    "users_mar = df_sales[df_sales['month'] == 3]['user_id'].unique().tolist()\n",
    "# пользователи с покупкой в феврале и марте\n",
    "users_feb_mar = list(set(users_feb).intersection(set(users_mar)))\n",
    "\n",
    "answer = len(users_feb_mar) / len(users_feb)\n",
    "print('answer:', round(answer, 2))"
   ]
  },
  {
   "cell_type": "code",
   "execution_count": 10,
   "id": "f456056e",
   "metadata": {},
   "outputs": [
    {
     "name": "stdout",
     "output_type": "stream",
     "text": [
      "simple test passed\n"
     ]
    }
   ],
   "source": [
    "# Задание 4\n",
    "import pandas as pd\n",
    "\n",
    "from datetime import datetime\n",
    "\n",
    "\n",
    "class DataService:\n",
    "\n",
    "    def __init__(self, table_name_2_table):\n",
    "        \"\"\"Класс, предоставляющий доступ к сырым данным.\n",
    "        \n",
    "        :param table_name_2_table (dict[str, pd.DataFrame]): словарь таблиц с данными.\n",
    "            Пример, {\n",
    "                'sales': pd.DataFrame({'sale_id': ['123', ...], ...}),\n",
    "                ...\n",
    "            }. \n",
    "        \"\"\"\n",
    "        self.table_name_2_table = table_name_2_table\n",
    "\n",
    "    def get_data_subset(self, table_name, begin_date, end_date, user_ids=None, columns=None):\n",
    "        \"\"\"Возвращает подмножество данных.\n",
    "\n",
    "        :param table_name (str): название таблицы с данными.\n",
    "        \n",
    "        :param begin_date (datetime.datetime): дата начала интервала с данными.\n",
    "            Пример, df[df['date'] >= begin_date].\n",
    "            Если None, то фильтровать не нужно.\n",
    "        :param end_date (None, datetime.datetime): дата окончания интервала с данными.\n",
    "            Пример, df[df['date'] < end_date].\n",
    "            Если None, то фильтровать не нужно.\n",
    "        :param user_ids (None, list[str]): список user_id, по которым нужно предоставить данные.\n",
    "            Пример, df[df['user_id'].isin(user_ids)].\n",
    "            Если None, то фильтровать по user_id не нужно.\n",
    "        :param columns (None, list[str]): список названий столбцов, по которым нужно предоставить данные.\n",
    "            Пример, df[columns].\n",
    "            Если None, то фильтровать по columns не нужно.\n",
    "\n",
    "        :return df (pd.DataFrame): датафрейм с подмножеством данных.\n",
    "        \"\"\"\n",
    "        # YOUR_CODE_HERE\n",
    "        # table_name (str): название таблицы с данными. Так как в начале мы создаем словарь,\n",
    "        # то, чтобы обратиться к датафрейму, нам нужно указать это же имя\n",
    "        df = self.table_name_2_table[table_name]\n",
    "        \n",
    "        if begin_date:\n",
    "            df = df[df['date'] >= begin_date]\n",
    "            \n",
    "        if end_date:\n",
    "            df = df[df['date'] < end_date]\n",
    "            \n",
    "        if user_ids:\n",
    "            df = df[df['user_id'].isin(user_ids)]\n",
    "            \n",
    "        if columns:\n",
    "            df = df[columns]\n",
    "        return df.copy()\n",
    "\n",
    "def _chech_df(df, df_ideal, sort_by):\n",
    "    assert isinstance(df, pd.DataFrame), 'Функция вернула не pd.DataFrame.'\n",
    "    assert len(df) == len(df_ideal), 'Неверное количество строк.'\n",
    "    assert len(df.T) == len(df_ideal.T), 'Неверное количество столбцов.'\n",
    "    columns = df_ideal.columns\n",
    "    assert df.columns.isin(columns).sum() == len(df.columns), 'Неверное название столбцов.'\n",
    "    df = df[columns].sort_values(sort_by)\n",
    "    df_ideal = df_ideal.sort_values(sort_by)\n",
    "    assert df_ideal.equals(df), 'Итоговый датафрейм не совпадает с верным результатом.'\n",
    "\n",
    "\n",
    "if __name__ == '__main__':\n",
    "    table = pd.DataFrame({\n",
    "        'date': [datetime(2022, 1, 5, 12,), datetime(2022, 1, 7, 12)],\n",
    "        'user_id': ['1', '2'],\n",
    "    })\n",
    "    ideal_df = pd.DataFrame({\n",
    "        'date': [datetime(2022, 1, 5, 12,)],\n",
    "        'user_id': ['1'],\n",
    "    })\n",
    "\n",
    "    data_service = DataService({'table': table})\n",
    "    res_df = data_service.get_data_subset('table', datetime(2022, 1, 1), datetime(2022, 1, 6))\n",
    "    _chech_df(res_df, ideal_df, 'date')\n",
    "    print('simple test passed')"
   ]
  },
  {
   "cell_type": "code",
   "execution_count": null,
   "id": "9c3c0661",
   "metadata": {},
   "outputs": [],
   "source": [
    "# Задание 4 решение \n",
    "import pandas as pd\n",
    "\n",
    "from datetime import datetime\n",
    "\n",
    "\n",
    "class DataService:\n",
    "\n",
    "    def __init__(self, table_name_2_table):\n",
    "        \"\"\"Класс, предоставляющий доступ к сырым данным.\n",
    "        \n",
    "        :param table_name_2_table (dict[str, pd.DataFrame]): словарь таблиц с данными.\n",
    "            Пример, {\n",
    "                'sales': pd.DataFrame({'sale_id': ['123', ...], ...}),\n",
    "                ...\n",
    "            }. \n",
    "        \"\"\"\n",
    "        self.table_name_2_table = table_name_2_table\n",
    "\n",
    "    def get_data_subset(self, table_name, begin_date, end_date, user_ids=None, columns=None):\n",
    "        \"\"\"Возвращает подмножество данных.\n",
    "\n",
    "        :param table_name (str): название таблицы с данными.\n",
    "        :param begin_date (None, datetime.datetime): дата начала интервала с данными.\n",
    "            Пример, df[df['date'] >= begin_date].\n",
    "            Если None, то фильтровать не нужно.\n",
    "        :param end_date (None, datetime.datetime): дата окончания интервала с данными.\n",
    "            Пример, df[df['date'] < end_date].\n",
    "            Если None, то фильтровать не нужно.\n",
    "        :param user_ids (None, list[str]): список user_id, по которым нужно предоставить данные.\n",
    "            Пример, df[df['user_id'].isin(user_ids)].\n",
    "            Если None, то фильтровать по user_id не нужно.\n",
    "        :param columns (None, list[str]): список названий столбцов, по которым нужно предоставить данные.\n",
    "            Пример, df[columns].\n",
    "            Если None, то фильтровать по columns не нужно.\n",
    "\n",
    "        :return df (pd.DataFrame): датафрейм с подмножеством данных.\n",
    "        \"\"\"\n",
    "        df = self.table_name_2_table[table_name]\n",
    "        if begin_date:\n",
    "            df = df[df['date'] >= begin_date]\n",
    "        if end_date:\n",
    "            df = df[df['date'] < end_date]\n",
    "        if user_ids:\n",
    "            df = df[df['user_id'].isin(user_ids)]\n",
    "        if columns:\n",
    "            df = df[columns]\n",
    "        return df.copy()\n"
   ]
  },
  {
   "cell_type": "code",
   "execution_count": 218,
   "id": "7aa264e2",
   "metadata": {},
   "outputs": [],
   "source": [
    "# Задание 5\n",
    "import pandas as pd\n",
    "\n",
    "from datetime import datetime\n",
    "\n",
    "\n",
    "class DataService:\n",
    "\n",
    "    def __init__(self, table_name_2_table):\n",
    "        self.table_name_2_table = table_name_2_table\n",
    "\n",
    "    def get_data_subset(self, table_name, begin_date, end_date, user_ids=None, columns=None):\n",
    "        df = self.table_name_2_table[table_name]\n",
    "        if begin_date:\n",
    "            df = df[df['date'] >= begin_date]\n",
    "        if end_date:\n",
    "            df = df[df['date'] < end_date]\n",
    "        if user_ids:\n",
    "            df = df[df['user_id'].isin(user_ids)]\n",
    "        if columns:\n",
    "            df = df[columns]\n",
    "        return df.copy()\n",
    "\n",
    "\n",
    "class MetricsService:\n",
    "\n",
    "    def __init__(self, data_service):\n",
    "        \"\"\"Класс для вычисления метрик.\n",
    "\n",
    "        :param data_service (DataService): объект класса, предоставляющий доступ к данным.\n",
    "        \"\"\"\n",
    "        self.data_service = data_service\n",
    "\n",
    "    def _get_data_subset(self, table_name, begin_date, end_date, user_ids=None, columns=None):\n",
    "        \"\"\"Возвращает часть таблицы с данными.\"\"\"\n",
    "        return self.data_service._get_data_subset(table_name, begin_date, end_date, user_ids, columns)\n",
    "\n",
    "    def _calculate_response_time(self, begin_date, end_date, user_ids):\n",
    "        \"\"\"Вычисляет значения времени обработки запроса сервером.\n",
    "        \n",
    "        Нужно вернуть значения user_id и load_time из таблицы 'web-logs', отфильтрованные по date и user_id.\n",
    "        Считаем, что каждый запрос независим, поэтому группировать по user_id не нужно.\n",
    "\n",
    "        :param begin_date, end_date (datetime): период времени, за который нужно считать значения.\n",
    "        :param user_id (None, list[str]): id пользователей, по которым нужно отфильтровать полученные значения.\n",
    "        \n",
    "        :return (pd.DataFrame): датафрейм с двумя столбцами ['user_id', 'metric']\n",
    "        \"\"\"\n",
    "        # YOUR_CODE_HERE\n",
    "        df_response_time = self.data_service.table_name_2_table['web-logs']\n",
    "        if begin_date:\n",
    "            df_response_time = df_response_time[df_response_time['date'] >= begin_date]\n",
    "        if end_date:\n",
    "            df_response_time = df_response_time[df_response_time['date'] < end_date]\n",
    "        if user_ids:\n",
    "            df_response_time = df_response_time[df_response_time['user_id'].isin(user_ids)]\n",
    "        df_response_time = df_response_time.rename(columns={'load_time':'metric'})\n",
    "        return df_response_time[['user_id', 'metric']].copy()\n",
    "        \n",
    "\n",
    "    def _calculate_revenue_web(self, begin_date, end_date, user_ids):\n",
    "        \"\"\"Вычисляет значения выручки с пользователя за указанный период\n",
    "        для заходивших на сайт в указанный период.\n",
    "\n",
    "        Эти данные нужны для экспериментов на сайте, когда в эксперимент попадают только те, кто заходил на сайт.\n",
    "        \n",
    "        Нужно вернуть значения user_id и выручки (sum(price)).\n",
    "        Данные о ценах в таблице 'sales'. Данные о заходивших на сайт в таблице 'web-logs'.\n",
    "        Если пользователь зашёл на сайт и ничего не купил, его суммарная стоимость покупок равна нулю.\n",
    "        Для каждого user_id должно быть ровно одно значение.\n",
    "\n",
    "        :param begin_date, end_date (datetime): период времени, за который нужно считать значения.\n",
    "            Также за этот период времени нужно выбирать пользователей, которые заходили на сайт.\n",
    "        :param user_id (None, list[str]): id пользователей, по которым нужно отфильтровать полученные значения.\n",
    "        \n",
    "        :return (pd.DataFrame): датафрейм с двумя столбцами ['user_id', 'metric']\n",
    "        \"\"\"\n",
    "        # YOUR_CODE_HERE\n",
    "        # Загрузка данных            \n",
    "        df_web_1 = self.data_service.table_name_2_table['web-logs']\n",
    "        df_sales_1 = self.data_service.table_name_2_table['sales']\n",
    "        if user_ids:\n",
    "            df_web_1 = df_web_1[df_web_1['user_id'].isin(user_ids)]\n",
    "            df_sales_1 = df_sales_1[df_sales_1['user_id'].isin(user_ids)]\n",
    "            \n",
    "        user_id = df_web_1[(df_web_1['date'] >= begin_date) & (df_web_1['date'] < end_date)].user_id.unique().tolist()\n",
    "        df_users = (pd.DataFrame(df_web_1[(df_web_1['date'] >= begin_date)\n",
    "                            & (df_web_1['date'] < end_date)]['user_id']\n",
    "                    .unique())\n",
    "              .rename(columns={0:'user_id'}))\n",
    "        df_sales = (df_sales_1[(df_sales_1['user_id'].isin(user_id))\n",
    "                               & (df_sales_1['date'] >= begin_date)\n",
    "                               & (df_sales_1['date'] < end_date)]\n",
    "                    .groupby('user_id', as_index=False)\n",
    "                    .agg({'price':'sum'})\n",
    "                    .rename(columns={'price': 'metric'}))\n",
    "        df_revenue_web = df_sales.merge(df_users, how='outer', on='user_id').fillna({'metric':0})\n",
    "        return df_revenue_web[['user_id', 'metric']].copy()\n",
    "\n",
    "    def _calculate_revenue_all(self, begin_date, end_date, user_ids):\n",
    "        \"\"\"Вычисляет значения выручки с пользователя за указанный период\n",
    "        для заходивших на сайт до end_date.\n",
    "\n",
    "        Эти данные нужны, например, для экспериментов с рассылкой по email,\n",
    "        когда в эксперимент попадают те, кто когда-либо оставил нам свои данные.\n",
    "        \n",
    "        Нужно вернуть значения user_id и выручки (sum(price)).\n",
    "        Данные о ценах в таблице 'sales'. Данные о заходивших на сайт в таблице 'web-logs'.\n",
    "        Если пользователь ничего не купил за указанный период, его суммарная стоимость покупок равна нулю.\n",
    "        Для каждого user_id должно быть ровно одно значение.\n",
    "\n",
    "        :param begin_date, end_date (datetime): период времени, за который нужно считать значения.\n",
    "            Нужно выбирать пользователей, которые хотя бы раз заходили на сайт до end_date.\n",
    "        :param user_id (None, list[str]): id пользователей, по которым нужно отфильтровать полученные значения.\n",
    "        \n",
    "        :return (pd.DataFrame): датафрейм с двумя столбцами ['user_id', 'metric']\n",
    "        \"\"\"\n",
    "        # YOUR_CODE_HERE\n",
    "        df_web_1 = self.data_service.table_name_2_table['web-logs']\n",
    "        df_sales_1 = self.data_service.table_name_2_table['sales']\n",
    "        if user_ids:\n",
    "            df_web_1 = df_web_1[df_web_1['user_id'].isin(user_ids)]\n",
    "            df_sales_1 = df_sales_1[df_sales_1['user_id'].isin(user_ids)]\n",
    "            \n",
    "        user_id = df_web_1[df_web_1['date'] < end_date].user_id.unique().tolist()\n",
    "        df_users = (pd.DataFrame(df_web_1[df_web_1['date'] < end_date]['user_id']\n",
    "                    .unique())\n",
    "              .rename(columns={0:'user_id'}))\n",
    "        df_sales = (df_sales_1[(df_sales_1['user_id'].isin(user_id))\n",
    "                               & (df_sales_1['date'] < end_date)]\n",
    "                    .groupby('user_id', as_index=False)\n",
    "                    .agg({'price':'sum'})\n",
    "                    .rename(columns={'price': 'metric'}))\n",
    "        df_revenue_all = df_sales.merge(df_users, how='outer', on='user_id').fillna({'metric':0})\n",
    "        return df_revenue_all[['user_id', 'metric']].copy()\n",
    "\n",
    "    def calculate_metric(self, metric_name, begin_date, end_date, user_ids=None):\n",
    "        \"\"\"Считает значения для вычисления метрик.\n",
    "\n",
    "        :param metric_name (str): название метрики\n",
    "        :param begin_date (datetime): дата начала периода (включая границу)\n",
    "        :param end_date (datetime): дата окончания периода (не включая границу)\n",
    "        :param user_ids (list[str], None): список пользователей.\n",
    "            Если None, то вычисляет значения для всех пользователей.\n",
    "        :return df: columns=['user_id', 'metric']\n",
    "        \"\"\"\n",
    "        if metric_name == 'response time':\n",
    "            return self._calculate_response_time(begin_date, end_date, user_ids)\n",
    "        elif metric_name == 'revenue (web)':\n",
    "            return self._calculate_revenue_web(begin_date, end_date, user_ids)\n",
    "        elif metric_name == 'revenue (all)':\n",
    "            return self._calculate_revenue_all(begin_date, end_date, user_ids)\n",
    "        else:\n",
    "            raise ValueError('Wrong metric name')\n",
    "\n",
    "def _chech_df(df, df_ideal, sort_by, reindex=False, set_dtypes=False):\n",
    "    assert isinstance(df, pd.DataFrame), 'Функция вернула не pd.DataFrame.'\n",
    "    assert len(df) == len(df_ideal), 'Неверное количество строк.'\n",
    "    assert len(df.T) == len(df_ideal.T), 'Неверное количество столбцов.'\n",
    "    columns = df_ideal.columns\n",
    "    assert df.columns.isin(columns).sum() == len(df.columns), 'Неверное название столбцов.'\n",
    "    df = df[columns].sort_values(sort_by)\n",
    "    df_ideal = df_ideal.sort_values(sort_by)\n",
    "    if reindex:\n",
    "        df_ideal.index = range(len(df_ideal))\n",
    "        df.index = range(len(df))\n",
    "    if set_dtypes:\n",
    "        for column, dtype in df_ideal.dtypes.to_dict().items():\n",
    "            df[column] = df[column].astype(dtype)\n",
    "    assert df_ideal.equals(df), 'Итоговый датафрейм не совпадает с верным результатом.'\n",
    "\n",
    "\n",
    "if __name__ == '__main__':\n",
    "    df_sales = pd.DataFrame({\n",
    "        'sale_id': [1, 2, 3],\n",
    "        'date': [datetime(2022, 3, day, 11) for day in range(11, 14)],\n",
    "        'price': [1100, 900, 1500],\n",
    "        'user_id': ['1', '2', '1'],\n",
    "    })\n",
    "    df_web_logs = pd.DataFrame({\n",
    "        'date': [datetime(2022, 3, day, 11) for day in range(10, 14)],\n",
    "        'load_time': [80.8, 90.1, 15.8, 19.7],\n",
    "        'user_id': ['3', '1', '2', '1'],\n",
    "    })\n",
    "    begin_date = datetime(2022, 3, 11, 9)\n",
    "    end_date = datetime(2022, 4, 11, 9)\n",
    "\n",
    "    ideal_response_time = pd.DataFrame({'user_id': ['1', '2', '1'], 'metric': [90.1, 15.8, 19.7],})\n",
    "    ideal_revenue_web = pd.DataFrame({'user_id': ['1', '2'], 'metric': [2600., 900.],})\n",
    "    ideal_revenue_all = pd.DataFrame({'user_id': ['1', '2', '3'], 'metric': [2600., 900., 0.],})\n",
    "\n",
    "    data_service = DataService({'sales': df_sales, 'web-logs': df_web_logs})\n",
    "    metrics_service = MetricsService(data_service)\n",
    "\n",
    "    df_response_time = metrics_service.calculate_metric('response time', begin_date, end_date)\n",
    "    df_revenue_web = metrics_service.calculate_metric('revenue (web)', begin_date, end_date)\n",
    "    df_revenue_all = metrics_service.calculate_metric('revenue (all)', begin_date, end_date)\n",
    "\n",
    "     _chech_df(df_response_time, ideal_response_time, ['user_id', 'metric'], True, True)\n",
    "     _chech_df(df_revenue_web, ideal_revenue_web, ['user_id', 'metric'], True, True)\n",
    "     _chech_df(df_revenue_all, ideal_revenue_all, ['user_id', 'metric'], True, True)\n",
    "     print('simple test passed')"
   ]
  },
  {
   "cell_type": "code",
   "execution_count": 220,
   "id": "d3f5dd26",
   "metadata": {},
   "outputs": [
    {
     "name": "stdout",
     "output_type": "stream",
     "text": [
      "simple test passed\n"
     ]
    }
   ],
   "source": [
    "# Задание 5 решение \n",
    "import pandas as pd\n",
    "\n",
    "from datetime import datetime\n",
    "\n",
    "\n",
    "class DataService:\n",
    "\n",
    "    def __init__(self, table_name_2_table):\n",
    "        self.table_name_2_table = table_name_2_table\n",
    "\n",
    "    def get_data_subset(self, table_name, begin_date, end_date, user_ids=None, columns=None):\n",
    "        df = self.table_name_2_table[table_name]\n",
    "        if begin_date:\n",
    "            df = df[df['date'] >= begin_date]\n",
    "        if end_date:\n",
    "            df = df[df['date'] < end_date]\n",
    "        if user_ids:\n",
    "            df = df[df['user_id'].isin(user_ids)]\n",
    "        if columns:\n",
    "            df = df[columns]\n",
    "        return df.copy()\n",
    "\n",
    "\n",
    "class MetricsService:\n",
    "\n",
    "    def __init__(self, data_service):\n",
    "        \"\"\"Класс для вычисления метрик.\n",
    "\n",
    "        :param data_service (DataService): объект класса, предоставляющий доступ к данным.\n",
    "        \"\"\"\n",
    "        self.data_service = data_service\n",
    "\n",
    "    def _get_data_subset(self, table_name, begin_date, end_date, user_ids=None, columns=None):\n",
    "        \"\"\"Возвращает часть таблицы с данными.\"\"\"\n",
    "        return self.data_service.get_data_subset(table_name, begin_date, end_date, user_ids, columns)\n",
    "\n",
    "    def _calculate_response_time(self, begin_date, end_date, user_ids):\n",
    "        \"\"\"Вычисляет значения времени обработки запроса сервером.\n",
    "        \n",
    "        Нужно вернуть значения user_id и load_time из таблицы 'web-logs', отфильтрованные по date и user_id.\n",
    "        Считаем, что каждый запрос независим, поэтому группировать по user_id не нужно.\n",
    "\n",
    "        :param begin_date, end_date (datetime): период времени, за который нужно считать значения.\n",
    "        :param user_id (None, list[str]): id пользователей, по которым нужно отфильтровать полученные значения.\n",
    "        \n",
    "        :return (pd.DataFrame): датафрейм с двумя столбцами ['user_id', 'metric']\n",
    "        \"\"\"\n",
    "        return (\n",
    "            self._get_data_subset('web-logs', begin_date, end_date, user_ids, ['user_id', 'load_time'])\n",
    "            .rename(columns={'load_time': 'metric'})\n",
    "            [['user_id', 'metric']]\n",
    "        )\n",
    "\n",
    "    def _calculate_revenue_web(self, begin_date, end_date, user_ids):\n",
    "        \"\"\"Вычисляет значения выручки с пользователя за указанный период\n",
    "        для заходивших на сайт в указанный период.\n",
    "\n",
    "        Эти данные нужны для экспериментов на сайте, когда в эксперимент попадают только те, кто заходил на сайт.\n",
    "        \n",
    "        Нужно вернуть значения user_id и выручки (sum(price)).\n",
    "        Данные о ценах в таблице 'sales'. Данные о заходивших на сайт в таблице 'web-logs'.\n",
    "        Если пользователь зашёл на сайт и ничего не купил, его суммарная стоимость покупок равна нулю.\n",
    "        Для каждого user_id должно быть ровно одно значение.\n",
    "\n",
    "        :param begin_date, end_date (datetime): период времени, за который нужно считать значения.\n",
    "            Также за этот период времени нужно выбирать пользователей, которые заходили на сайт.\n",
    "        :param user_id (None, list[str]): id пользователей, по которым нужно отфильтровать полученные значения.\n",
    "        \n",
    "        :return (pd.DataFrame): датафрейм с двумя столбцами ['user_id', 'metric']\n",
    "        \"\"\"\n",
    "        user_ids_ = (\n",
    "            self._get_data_subset('web-logs', begin_date, end_date, user_ids, ['user_id'])\n",
    "            ['user_id'].unique()\n",
    "        )\n",
    "        df = (\n",
    "            self._get_data_subset('sales', begin_date, end_date, user_ids, ['user_id', 'price'])\n",
    "            .groupby('user_id')[['price']].sum().reset_index() \n",
    "            .rename(columns={'price': 'metric'})\n",
    "        )\n",
    "        df = pd.merge(pd.DataFrame({'user_id': user_ids_}), df, on='user_id', how='left').fillna(0)\n",
    "        return df[['user_id', 'metric']]\n",
    "\n",
    "    def _calculate_revenue_all(self, begin_date, end_date, user_ids):\n",
    "        \"\"\"Вычисляет значения выручки с пользователя за указанный период\n",
    "        для заходивших на сайт до end_date.\n",
    "\n",
    "        Эти данные нужны, например, для экспериментов с рассылкой по email,\n",
    "        когда в эксперимент попадают те, кто когда-либо оставил нам свои данные.\n",
    "        \n",
    "        Нужно вернуть значения user_id и выручки (sum(price)).\n",
    "        Данные о ценах в таблице 'sales'. Данные о заходивших на сайт в таблице 'web-logs'.\n",
    "        Если пользователь ничего не купил за указанный период, его суммарная стоимость покупок равна нулю.\n",
    "        Для каждого user_id должно быть ровно одно значение.\n",
    "\n",
    "        :param begin_date, end_date (datetime): период времени, за который нужно считать значения.\n",
    "            Нужно выбирать пользователей, которые хотя бы раз заходили на сайт до end_date.\n",
    "        :param user_id (None, list[str]): id пользователей, по которым нужно отфильтровать полученные значения.\n",
    "        \n",
    "        :return (pd.DataFrame): датафрейм с двумя столбцами ['user_id', 'metric']\n",
    "        \"\"\"\n",
    "        user_ids_ = (\n",
    "            self._get_data_subset('web-logs', None, end_date, user_ids, ['user_id'])\n",
    "            ['user_id'].unique()\n",
    "        )\n",
    "        df = (\n",
    "            self._get_data_subset('sales', begin_date, end_date, user_ids, ['user_id', 'price'])\n",
    "            .groupby('user_id')[['price']].sum().reset_index() \n",
    "            .rename(columns={'price': 'metric'})\n",
    "        )\n",
    "        df = pd.merge(pd.DataFrame({'user_id': user_ids_}), df, on='user_id', how='left').fillna(0)\n",
    "        return df[['user_id', 'metric']]\n",
    "\n",
    "    def calculate_metric(self, metric_name, begin_date, end_date, user_ids=None):\n",
    "        \"\"\"Считает значения для вычисления метрик.\n",
    "\n",
    "        :param metric_name (str): название метрики\n",
    "        :param begin_date (datetime): дата начала периода (включая границу)\n",
    "        :param end_date (datetime): дата окончания периода (не включая границу)\n",
    "        :param user_ids (list[str], None): список пользователей.\n",
    "            Если None, то вычисляет значения для всех пользователей.\n",
    "        :return df: columns=['user_id', 'metric']\n",
    "        \"\"\"\n",
    "        if metric_name == 'response time':\n",
    "            return self._calculate_response_time(begin_date, end_date, user_ids)\n",
    "        elif metric_name == 'revenue (web)':\n",
    "            return self._calculate_revenue_web(begin_date, end_date, user_ids)\n",
    "        elif metric_name == 'revenue (all)':\n",
    "            return self._calculate_revenue_all(begin_date, end_date, user_ids)\n",
    "        else:\n",
    "            raise ValueError('Wrong metric name')\n",
    "\n",
    "\n",
    "def _chech_df(df, df_ideal, sort_by, reindex=False, set_dtypes=False):\n",
    "    assert isinstance(df, pd.DataFrame), 'Функция вернула не pd.DataFrame.'\n",
    "    assert len(df) == len(df_ideal), 'Неверное количество строк.'\n",
    "    assert len(df.T) == len(df_ideal.T), 'Неверное количество столбцов.'\n",
    "    columns = df_ideal.columns\n",
    "    assert df.columns.isin(columns).sum() == len(df.columns), 'Неверное название столбцов.'\n",
    "    df = df[columns].sort_values(sort_by)\n",
    "    df_ideal = df_ideal.sort_values(sort_by)\n",
    "    if reindex:\n",
    "        df_ideal.index = range(len(df_ideal))\n",
    "        df.index = range(len(df))\n",
    "    if set_dtypes:\n",
    "        for column, dtype in df_ideal.dtypes.to_dict().items():\n",
    "            df[column] = df[column].astype(dtype)\n",
    "    assert df_ideal.equals(df), 'Итоговый датафрейм не совпадает с верным результатом.'\n",
    "\n",
    "\n",
    "if __name__ == '__main__':\n",
    "    df_sales = pd.DataFrame({\n",
    "        'sale_id': [1, 2, 3],\n",
    "        'date': [datetime(2022, 3, day, 11) for day in range(11, 14)],\n",
    "        'price': [1100, 900, 1500],\n",
    "        'user_id': ['1', '2', '1'],\n",
    "    })\n",
    "    df_web_logs = pd.DataFrame({\n",
    "        'date': [datetime(2022, 3, day, 11) for day in range(10, 14)],\n",
    "        'load_time': [80.8, 90.1, 15.8, 19.7],\n",
    "        'user_id': ['3', '1', '2', '1'],\n",
    "    })\n",
    "    begin_date = datetime(2022, 3, 11, 9)\n",
    "    end_date = datetime(2022, 4, 11, 9)\n",
    "\n",
    "    ideal_response_time = pd.DataFrame({'user_id': ['1', '2', '1'], 'metric': [90.1, 15.8, 19.7],})\n",
    "    ideal_revenue_web = pd.DataFrame({'user_id': ['1', '2'], 'metric': [2600., 900.],})\n",
    "    ideal_revenue_all = pd.DataFrame({'user_id': ['1', '2', '3'], 'metric': [2600., 900., 0.],})\n",
    "\n",
    "    data_service = DataService({'sales': df_sales, 'web-logs': df_web_logs})\n",
    "    metrics_service = MetricsService(data_service)\n",
    "\n",
    "    df_response_time = metrics_service.calculate_metric('response time', begin_date, end_date)\n",
    "    df_revenue_web = metrics_service.calculate_metric('revenue (web)', begin_date, end_date)\n",
    "    df_revenue_all = metrics_service.calculate_metric('revenue (all)', begin_date, end_date)\n",
    "\n",
    "    _chech_df(df_response_time, ideal_response_time, ['user_id', 'metric'], True, True)\n",
    "    _chech_df(df_revenue_web, ideal_revenue_web, ['user_id', 'metric'], True, True)\n",
    "    _chech_df(df_revenue_all, ideal_revenue_all, ['user_id', 'metric'], True, True)\n",
    "    print('simple test passed')\n"
   ]
  },
  {
   "cell_type": "code",
   "execution_count": null,
   "id": "813301ac",
   "metadata": {},
   "outputs": [],
   "source": []
  },
  {
   "cell_type": "code",
   "execution_count": null,
   "id": "59b839c7",
   "metadata": {},
   "outputs": [],
   "source": []
  },
  {
   "cell_type": "code",
   "execution_count": null,
   "id": "1ec21d96",
   "metadata": {},
   "outputs": [],
   "source": []
  },
  {
   "cell_type": "code",
   "execution_count": null,
   "id": "48d1788b",
   "metadata": {},
   "outputs": [],
   "source": []
  },
  {
   "cell_type": "code",
   "execution_count": 76,
   "id": "f987a604",
   "metadata": {},
   "outputs": [],
   "source": [
    "df_a = np.random.normal(loc=1000, scale=100, size=50)\n",
    "df_b = np.random.normal(loc=1000, scale=100, size=50)\n",
    "df_c = np.random.normal(loc=1050, scale=100, size=50)"
   ]
  },
  {
   "cell_type": "code",
   "execution_count": 77,
   "id": "fa599cb7",
   "metadata": {},
   "outputs": [
    {
     "data": {
      "text/plain": [
       "Ttest_indResult(statistic=-0.6830705239184199, pvalue=0.4961739603594266)"
      ]
     },
     "execution_count": 77,
     "metadata": {},
     "output_type": "execute_result"
    }
   ],
   "source": [
    "stats.ttest_ind(df_a, df_b)"
   ]
  },
  {
   "cell_type": "code",
   "execution_count": 78,
   "id": "9caa05f5",
   "metadata": {},
   "outputs": [
    {
     "data": {
      "text/plain": [
       "Ttest_indResult(statistic=-1.9289362561682997, pvalue=0.05663194035680911)"
      ]
     },
     "execution_count": 78,
     "metadata": {},
     "output_type": "execute_result"
    }
   ],
   "source": [
    "stats.ttest_ind(df_b, df_c)"
   ]
  },
  {
   "cell_type": "code",
   "execution_count": 79,
   "id": "304f8690",
   "metadata": {},
   "outputs": [
    {
     "data": {
      "text/plain": [
       "Ttest_indResult(statistic=-2.8945759592971987, pvalue=0.004680420726204914)"
      ]
     },
     "execution_count": 79,
     "metadata": {},
     "output_type": "execute_result"
    }
   ],
   "source": [
    "stats.ttest_ind(df_a, df_c)"
   ]
  },
  {
   "cell_type": "code",
   "execution_count": 47,
   "id": "6cd81203",
   "metadata": {},
   "outputs": [],
   "source": [
    "df_a = np.random.normal(loc=1000, scale=100, size=(1000, 50))\n",
    "df_b = np.random.normal(loc=1000, scale=100, size=(1000, 50))\n",
    "df_c = np.random.normal(loc=1050, scale=100, size=(1000, 50))"
   ]
  },
  {
   "cell_type": "code",
   "execution_count": 48,
   "id": "3000f61d",
   "metadata": {},
   "outputs": [],
   "source": [
    "mean_a = []\n",
    "mean_b = []\n",
    "mean_c = []\n",
    "for i in df_a:\n",
    "    mean_a.append(i.mean())\n",
    "for i in df_b:\n",
    "    mean_b.append(i.mean())\n",
    "for i in df_c:\n",
    "    mean_c.append(i.mean())\n",
    "mean_a = pd.DataFrame(mean_a).rename(columns={0: 'mean_a'})\n",
    "mean_b = pd.DataFrame(mean_b).rename(columns={0: 'mean_b'})\n",
    "mean_c = pd.DataFrame(mean_c).rename(columns={0: 'mean_c'})"
   ]
  },
  {
   "cell_type": "code",
   "execution_count": 71,
   "id": "9b80afba",
   "metadata": {},
   "outputs": [],
   "source": [
    "df_full = pd.concat([mean_a, mean_b, mean_c], axis=1)\n",
    "df_full['diff_ba'] = df_full.mean_b - df_full.mean_a\n",
    "df_full['diff_ca'] = df_full.mean_c - df_full.mean_a\n",
    "alfa = 40"
   ]
  },
  {
   "cell_type": "code",
   "execution_count": 72,
   "id": "eea49cf0",
   "metadata": {},
   "outputs": [
    {
     "name": "stdout",
     "output_type": "stream",
     "text": [
      "Ошибка I рода 0.051\n"
     ]
    }
   ],
   "source": [
    "print(f'Ошибка I рода {df_full[abs(df_full.diff_ba) > alfa].diff_ba.count() / 1000}')"
   ]
  },
  {
   "cell_type": "code",
   "execution_count": 73,
   "id": "ccd7a1a4",
   "metadata": {},
   "outputs": [
    {
     "name": "stdout",
     "output_type": "stream",
     "text": [
      "Ошибка II рода 0.297\n"
     ]
    }
   ],
   "source": [
    "print(f'Ошибка II рода {df_full[abs(df_full.diff_ca) < alfa].diff_ca.count() / 1000}')"
   ]
  },
  {
   "cell_type": "code",
   "execution_count": null,
   "id": "f163cf86",
   "metadata": {},
   "outputs": [],
   "source": []
  },
  {
   "cell_type": "code",
   "execution_count": 52,
   "id": "da972d60",
   "metadata": {},
   "outputs": [
    {
     "data": {
      "text/html": [
       "<div>\n",
       "<style scoped>\n",
       "    .dataframe tbody tr th:only-of-type {\n",
       "        vertical-align: middle;\n",
       "    }\n",
       "\n",
       "    .dataframe tbody tr th {\n",
       "        vertical-align: top;\n",
       "    }\n",
       "\n",
       "    .dataframe thead th {\n",
       "        text-align: right;\n",
       "    }\n",
       "</style>\n",
       "<table border=\"1\" class=\"dataframe\">\n",
       "  <thead>\n",
       "    <tr style=\"text-align: right;\">\n",
       "      <th></th>\n",
       "      <th>mean_a</th>\n",
       "      <th>mean_b</th>\n",
       "      <th>mean_c</th>\n",
       "      <th>diff_ba</th>\n",
       "      <th>diff_ca</th>\n",
       "    </tr>\n",
       "  </thead>\n",
       "  <tbody>\n",
       "    <tr>\n",
       "      <th>3</th>\n",
       "      <td>1021.355938</td>\n",
       "      <td>1000.914450</td>\n",
       "      <td>1047.580593</td>\n",
       "      <td>-20.441488</td>\n",
       "      <td>26.224655</td>\n",
       "    </tr>\n",
       "    <tr>\n",
       "      <th>5</th>\n",
       "      <td>1018.652371</td>\n",
       "      <td>995.514883</td>\n",
       "      <td>1037.022780</td>\n",
       "      <td>-23.137488</td>\n",
       "      <td>18.370408</td>\n",
       "    </tr>\n",
       "    <tr>\n",
       "      <th>8</th>\n",
       "      <td>1011.447647</td>\n",
       "      <td>982.522007</td>\n",
       "      <td>1052.223967</td>\n",
       "      <td>-28.925639</td>\n",
       "      <td>40.776320</td>\n",
       "    </tr>\n",
       "    <tr>\n",
       "      <th>12</th>\n",
       "      <td>1010.975501</td>\n",
       "      <td>974.042658</td>\n",
       "      <td>1045.492710</td>\n",
       "      <td>-36.932843</td>\n",
       "      <td>34.517209</td>\n",
       "    </tr>\n",
       "    <tr>\n",
       "      <th>14</th>\n",
       "      <td>999.895894</td>\n",
       "      <td>1024.189829</td>\n",
       "      <td>1045.508863</td>\n",
       "      <td>24.293935</td>\n",
       "      <td>45.612969</td>\n",
       "    </tr>\n",
       "    <tr>\n",
       "      <th>...</th>\n",
       "      <td>...</td>\n",
       "      <td>...</td>\n",
       "      <td>...</td>\n",
       "      <td>...</td>\n",
       "      <td>...</td>\n",
       "    </tr>\n",
       "    <tr>\n",
       "      <th>991</th>\n",
       "      <td>971.271962</td>\n",
       "      <td>996.498456</td>\n",
       "      <td>1050.549349</td>\n",
       "      <td>25.226494</td>\n",
       "      <td>79.277386</td>\n",
       "    </tr>\n",
       "    <tr>\n",
       "      <th>992</th>\n",
       "      <td>1007.456311</td>\n",
       "      <td>962.249850</td>\n",
       "      <td>1068.396429</td>\n",
       "      <td>-45.206461</td>\n",
       "      <td>60.940118</td>\n",
       "    </tr>\n",
       "    <tr>\n",
       "      <th>993</th>\n",
       "      <td>986.218245</td>\n",
       "      <td>1031.765774</td>\n",
       "      <td>1042.769682</td>\n",
       "      <td>45.547529</td>\n",
       "      <td>56.551437</td>\n",
       "    </tr>\n",
       "    <tr>\n",
       "      <th>997</th>\n",
       "      <td>1026.452712</td>\n",
       "      <td>1002.651833</td>\n",
       "      <td>1045.498911</td>\n",
       "      <td>-23.800879</td>\n",
       "      <td>19.046199</td>\n",
       "    </tr>\n",
       "    <tr>\n",
       "      <th>999</th>\n",
       "      <td>986.943727</td>\n",
       "      <td>1029.116978</td>\n",
       "      <td>1043.040190</td>\n",
       "      <td>42.173251</td>\n",
       "      <td>56.096464</td>\n",
       "    </tr>\n",
       "  </tbody>\n",
       "</table>\n",
       "<p>358 rows × 5 columns</p>\n",
       "</div>"
      ],
      "text/plain": [
       "          mean_a       mean_b       mean_c    diff_ba    diff_ca\n",
       "3    1021.355938  1000.914450  1047.580593 -20.441488  26.224655\n",
       "5    1018.652371   995.514883  1037.022780 -23.137488  18.370408\n",
       "8    1011.447647   982.522007  1052.223967 -28.925639  40.776320\n",
       "12   1010.975501   974.042658  1045.492710 -36.932843  34.517209\n",
       "14    999.895894  1024.189829  1045.508863  24.293935  45.612969\n",
       "..           ...          ...          ...        ...        ...\n",
       "991   971.271962   996.498456  1050.549349  25.226494  79.277386\n",
       "992  1007.456311   962.249850  1068.396429 -45.206461  60.940118\n",
       "993   986.218245  1031.765774  1042.769682  45.547529  56.551437\n",
       "997  1026.452712  1002.651833  1045.498911 -23.800879  19.046199\n",
       "999   986.943727  1029.116978  1043.040190  42.173251  56.096464\n",
       "\n",
       "[358 rows x 5 columns]"
      ]
     },
     "execution_count": 52,
     "metadata": {},
     "output_type": "execute_result"
    }
   ],
   "source": [
    "df_full[abs(df_full.diff_ba) > 20]"
   ]
  },
  {
   "cell_type": "code",
   "execution_count": 59,
   "id": "002ebef5",
   "metadata": {},
   "outputs": [
    {
     "data": {
      "text/plain": [
       "<seaborn.axisgrid.FacetGrid at 0x137eb2c6ac0>"
      ]
     },
     "execution_count": 59,
     "metadata": {},
     "output_type": "execute_result"
    },
    {
     "data": {
      "image/png": "[encoded data removed]",
      "text/plain": [
       "<Figure size 605.25x500 with 1 Axes>"
      ]
     },
     "metadata": {},
     "output_type": "display_data"
    }
   ],
   "source": [
    "sns.displot(df_full[['mean_a', 'mean_b', 'mean_c']])"
   ]
  },
  {
   "cell_type": "code",
   "execution_count": 70,
   "id": "88e508ec",
   "metadata": {},
   "outputs": [
    {
     "data": {
      "text/plain": [
       "<seaborn.axisgrid.FacetGrid at 0x137eed9f8b0>"
      ]
     },
     "execution_count": 70,
     "metadata": {},
     "output_type": "execute_result"
    },
    {
     "data": {
      "image/png": "[encoded data removed]",
      "text/plain": [
       "<Figure size 597.25x500 with 1 Axes>"
      ]
     },
     "metadata": {},
     "output_type": "display_data"
    }
   ],
   "source": [
    "sns.displot(df_full[['diff_ba', 'diff_ca']])"
   ]
  },
  {
   "cell_type": "code",
   "execution_count": 5,
   "id": "b3ed44fb",
   "metadata": {},
   "outputs": [],
   "source": [
    "# 02/02/2023 lesson 2.1\n",
    "# Read data and change column \"date\" to datetime type\n",
    "df_sales = read_database('2022-04-01T12_df_sales.csv')\n",
    "df_users = read_database('experiment_users.csv')\n",
    "df_sales['date'] = pd.to_datetime(df_sales['date'])"
   ]
  },
  {
   "cell_type": "code",
   "execution_count": 6,
   "id": "acfadf93",
   "metadata": {},
   "outputs": [],
   "source": [
    "# считаем значения метрики\n",
    "begin_date = datetime(2022, 3, 16)\n",
    "end_date = datetime(2022, 3, 23)\n",
    "df_metrics = (\n",
    "    df_sales\n",
    "    [(df_sales['date'] >= begin_date) & (df_sales['date'] < end_date)]\n",
    "    .groupby('user_id')[['price']].sum()\n",
    "    .reset_index()  \n",
    ")\n",
    "df = pd.merge(df_users, df_metrics, on='user_id', how='left').fillna(0)\n",
    "data_control = df[df['pilot'] == 0]['price']\n",
    "data_pilot = df[df['pilot'] == 1]['price']\n",
    "stats.ttest_ind(data_control, data_pilot)"
   ]
  },
  {
   "cell_type": "code",
   "execution_count": 15,
   "id": "a9cc6657",
   "metadata": {},
   "outputs": [],
   "source": [
    "df_users_reg = df_sales.groupby('user_id', as_index=False).agg({'sale_id':'nunique'}).query('sale_id >=2').user_id.tolist()\n",
    "df_day_mean = df_sales[df_sales['user_id'].isin(df_users_reg)][['user_id', 'date']].sort_values(['user_id', 'date'])\n",
    "df_day_mean['date_y'] = df_day_mean.groupby('user_id').date.shift(-1)\n",
    "df_day_mean['diff_d'] = df_day_mean.date_y - df_day_mean.date\n",
    "df_day_mean['diff_days'] = df_day_mean.diff_d.dt.days\n",
    "df_day_mean[df_day_mean.diff_days.notnull()].diff_days.mean()"
   ]
  },
  {
   "cell_type": "code",
   "execution_count": null,
   "id": "dc107592",
   "metadata": {},
   "outputs": [],
   "source": [
    "# для каждого пользователя считаем количество покупок, дату первой и последней покупки\n",
    "df = df_sales.groupby('user_id')[['date']].agg(['count', 'min', 'max'])\n",
    "df.columns = [x[1] for x in df.columns]\n",
    "# оставляем пользователей с 2 и более покупок\n",
    "df = df[df['count'] >= 2]\n",
    "# количество секунд между первой и последней покупкой\n",
    "df['delta'] = (df['max'] - df['min']).dt.total_seconds()\n",
    "# суммарное время между покупками\n",
    "sum_delta = df['delta'].sum()\n",
    "# суммарное количество периодов между покупками\n",
    "count_periods = df['count'].sum() - len(df)\n",
    "# среднее = суммарное время / количество периодов\n",
    "answer = sum_delta / count_periods / 3600 / 24\n",
    "print('answer:', int(round(answer)))"
   ]
  },
  {
   "cell_type": "code",
   "execution_count": 69,
   "id": "4739c2dc",
   "metadata": {},
   "outputs": [
    {
     "name": "stdout",
     "output_type": "stream",
     "text": [
      "Collecting pydantic\n",
      "  Downloading pydantic-1.10.7-cp39-cp39-win_amd64.whl (2.2 MB)\n",
      "     ---------------------------------------- 2.2/2.2 MB 172.8 kB/s eta 0:00:00\n",
      "Requirement already satisfied: typing-extensions>=4.2.0 in c:\\users\\alex\\anaconda3\\lib\\site-packages (from pydantic) (4.3.0)\n",
      "Installing collected packages: pydantic\n",
      "Successfully installed pydantic-1.10.7\n",
      "Note: you may need to restart the kernel to use updated packages.\n"
     ]
    },
    {
     "name": "stderr",
     "output_type": "stream",
     "text": [
      "WARNING: There was an error checking the latest version of pip.\n"
     ]
    }
   ],
   "source": [
    "pip install pydantic"
   ]
  },
  {
   "cell_type": "code",
   "execution_count": 70,
   "id": "cf4b9d23",
   "metadata": {},
   "outputs": [],
   "source": [
    "import numpy as np\n",
    "from pydantic import BaseModel\n",
    "from scipy import stats\n",
    "\n",
    "\n",
    "class Design(BaseModel):\n",
    "    \"\"\"Дата-класс с описание параметров эксперимента.\"\"\"\n",
    "    statistical_test: str\n",
    "\n",
    "\n",
    "class ExperimentsService:\n",
    "\n",
    "    def get_pvalue(self, metrics_a_group, metrics_b_group, design):\n",
    "        \"\"\"Применяет статтест, возвращает pvalue.\n",
    "\n",
    "        :param metrics_a_group (np.array): массив значений метрик группы A\n",
    "        :param metrics_a_group (np.array): массив значений метрик группы B\n",
    "        :param design (Design): объект с данными, описывающий параметры эксперимента\n",
    "        :return (float): значение p-value\n",
    "        \"\"\"\n",
    "        if design.statistical_test == 'ttest':\n",
    "            # YOUR_CODE_HERE\n",
    "            return stats.ttest_ind(metrics_a_group, metrics_b_group).pvalue\n",
    "        else:\n",
    "            raise ValueError('Неверный design.statistical_test')"
   ]
  },
  {
   "cell_type": "code",
   "execution_count": 71,
   "id": "2b3d5518",
   "metadata": {},
   "outputs": [
    {
     "name": "stdout",
     "output_type": "stream",
     "text": [
      "simple test passed\n"
     ]
    }
   ],
   "source": [
    "class ExperimentsService:\n",
    "\n",
    "    def get_pvalue(self, metrics_a_group, metrics_b_group, design):\n",
    "        \"\"\"Применяет статтест, возвращает pvalue.\n",
    "        \n",
    "        :param metrics_a_group (np.array): массив значений метрик группы A\n",
    "        :param metrics_a_group (np.array): массив значений метрик группы B\n",
    "        :param design (Design): объект с данными, описывающий параметры эксперимента\n",
    "        :return (float): значение p-value\n",
    "        \"\"\"\n",
    "        if design.statistical_test == 'ttest':\n",
    "            _, pvalue = stats.ttest_ind(metrics_a_group, metrics_b_group)\n",
    "            return pvalue\n",
    "        else:\n",
    "            raise ValueError('Неверный design.statistical_test')"
   ]
  },
  {
   "cell_type": "code",
   "execution_count": 5,
   "id": "17dda476",
   "metadata": {},
   "outputs": [
    {
     "data": {
      "text/html": [
       "<div>\n",
       "<style scoped>\n",
       "    .dataframe tbody tr th:only-of-type {\n",
       "        vertical-align: middle;\n",
       "    }\n",
       "\n",
       "    .dataframe tbody tr th {\n",
       "        vertical-align: top;\n",
       "    }\n",
       "\n",
       "    .dataframe thead th {\n",
       "        text-align: right;\n",
       "    }\n",
       "</style>\n",
       "<table border=\"1\" class=\"dataframe\">\n",
       "  <thead>\n",
       "    <tr style=\"text-align: right;\">\n",
       "      <th></th>\n",
       "      <th>sale_id</th>\n",
       "      <th>date</th>\n",
       "      <th>count_pizza</th>\n",
       "      <th>count_drink</th>\n",
       "      <th>price</th>\n",
       "      <th>user_id</th>\n",
       "    </tr>\n",
       "  </thead>\n",
       "  <tbody>\n",
       "    <tr>\n",
       "      <th>0</th>\n",
       "      <td>1000001</td>\n",
       "      <td>2022-02-04 10:00:24</td>\n",
       "      <td>1</td>\n",
       "      <td>0</td>\n",
       "      <td>720</td>\n",
       "      <td>1c1543</td>\n",
       "    </tr>\n",
       "    <tr>\n",
       "      <th>1</th>\n",
       "      <td>1000002</td>\n",
       "      <td>2022-02-04 10:02:28</td>\n",
       "      <td>1</td>\n",
       "      <td>1</td>\n",
       "      <td>930</td>\n",
       "      <td>a9a6e8</td>\n",
       "    </tr>\n",
       "    <tr>\n",
       "      <th>2</th>\n",
       "      <td>1000003</td>\n",
       "      <td>2022-02-04 10:02:35</td>\n",
       "      <td>3</td>\n",
       "      <td>1</td>\n",
       "      <td>1980</td>\n",
       "      <td>23420a</td>\n",
       "    </tr>\n",
       "  </tbody>\n",
       "</table>\n",
       "</div>"
      ],
      "text/plain": [
       "   sale_id                date  count_pizza  count_drink  price user_id\n",
       "0  1000001 2022-02-04 10:00:24            1            0    720  1c1543\n",
       "1  1000002 2022-02-04 10:02:28            1            1    930  a9a6e8\n",
       "2  1000003 2022-02-04 10:02:35            3            1   1980  23420a"
      ]
     },
     "execution_count": 5,
     "metadata": {},
     "output_type": "execute_result"
    }
   ],
   "source": [
    "# 8/05/2023 lesson 3\n",
    "df_sales = read_database('2022-04-01T12_df_sales.csv')\n",
    "df_sales['date'] = pd.to_datetime(df_sales['date'])\n",
    "df_sales.head(3)"
   ]
  },
  {
   "cell_type": "code",
   "execution_count": 6,
   "id": "eac4ecca",
   "metadata": {},
   "outputs": [
    {
     "name": "stdout",
     "output_type": "stream",
     "text": [
      "2022-02-04 10:00:24\n",
      "2022-04-01 11:59:51\n",
      "(203847, 6)\n"
     ]
    },
    {
     "data": {
      "image/png": "[encoded data removed]",
      "text/plain": [
       "<Figure size 640x480 with 1 Axes>"
      ]
     },
     "metadata": {},
     "output_type": "display_data"
    }
   ],
   "source": [
    "print(df_sales['date'].min())\n",
    "print(df_sales['date'].max())\n",
    "print(df_sales.shape)\n",
    "df_sales['date'].hist(xrot=45);"
   ]
  },
  {
   "cell_type": "code",
   "execution_count": 13,
   "id": "b5b40302",
   "metadata": {},
   "outputs": [],
   "source": [
    "def get_minimal_determinable_effect(std, sample_size, alpha=0.05, beta=0.2):\n",
    "    t_alpha = norm.ppf(1 - alpha / 2, loc=0, scale=1)\n",
    "    t_beta = norm.ppf(1 - beta, loc=0, scale=1)\n",
    "    disp_sum_sqrt = (2 * (std ** 2)) ** 0.5\n",
    "    mde = (t_alpha + t_beta) * disp_sum_sqrt / np.sqrt(sample_size)\n",
    "    return mde"
   ]
  },
  {
   "cell_type": "code",
   "execution_count": 28,
   "id": "7053526f",
   "metadata": {},
   "outputs": [],
   "source": [
    "def get_sample_size_abs(epsilon, std, alpha=0.05, beta=0.2):\n",
    "    t_alpha = norm.ppf(1 - alpha / 2, loc=0, scale=1)\n",
    "    t_beta = norm.ppf(1 - beta, loc=0, scale=1)\n",
    "    z_scores_sum_squared = (t_alpha + t_beta) ** 2\n",
    "    sample_size = int(\n",
    "        np.ceil(\n",
    "            z_scores_sum_squared * (2 * std ** 2) / (epsilon ** 2)\n",
    "        )\n",
    "    )\n",
    "    return sample_size\n",
    "def get_sample_size_arb(mu, std, eff=1.01, alpha=0.05, beta=0.2):\n",
    "    epsilon = (eff - 1) * mu\n",
    "\n",
    "    return get_sample_size_abs(epsilon, std=std, alpha=alpha, beta=beta)\n",
    "\n",
    "def check_ttest(a, b, alpha=0.05):\n",
    "    \"\"\"Тест Стьюдента. Возвращает 1, если отличия значимы.\"\"\"\n",
    "    _, pvalue = ttest_ind(a, b)\n",
    "    return int(pvalue < alpha)"
   ]
  },
  {
   "cell_type": "code",
   "execution_count": 95,
   "id": "961da319",
   "metadata": {},
   "outputs": [
    {
     "data": {
      "text/plain": [
       "(25347, 6)"
      ]
     },
     "execution_count": 95,
     "metadata": {},
     "output_type": "execute_result"
    }
   ],
   "source": [
    "df_sales_hist = df_sales[\n",
    "    (df_sales['date'] >= datetime(2022, 2, 21))\n",
    "    & (df_sales['date'] < datetime(2022, 2, 28))\n",
    "]\n",
    "df_sales_hist.shape"
   ]
  },
  {
   "cell_type": "code",
   "execution_count": 98,
   "id": "3429fba9",
   "metadata": {},
   "outputs": [
    {
     "name": "stdout",
     "output_type": "stream",
     "text": [
      "sample_size = 34571\n",
      "sample_size = 34571\n",
      "sample_size_round = 34570\n"
     ]
    }
   ],
   "source": [
    "alpha = 0.05\n",
    "beta = 0.1\n",
    "epsilon = 20\n",
    "\n",
    "\n",
    "\n",
    "mean = df_sales_hist.groupby(['user_id'])['price'].sum().mean()\n",
    "std = df_sales_hist.groupby(['user_id'])['price'].sum().std()\n",
    "eff = (mean+epsilon)/mean\n",
    "sample_size = get_sample_size_abs(20, std, alpha=alpha, beta=beta)\n",
    "print(f'sample_size = {sample_size}')\n",
    "\n",
    "sample_size = get_sample_size_arb(mean, std, eff=eff, alpha=alpha, beta=beta)\n",
    "print(f'sample_size = {sample_size}')\n",
    "print(f'sample_size_round = {round(sample_size, -1)}')"
   ]
  },
  {
   "cell_type": "code",
   "execution_count": 99,
   "id": "b5ba5224",
   "metadata": {},
   "outputs": [
    {
     "name": "stdout",
     "output_type": "stream",
     "text": [
      "mde = 33.0\n"
     ]
    }
   ],
   "source": [
    "mde = get_minimal_determinable_effect(std, df_sales_hist.shape[0] // 2, alpha=alpha, beta=beta)\n",
    "print(f'mde = {np.round(mde, 0)}')"
   ]
  }
 ],
 "metadata": {
  "kernelspec": {
   "display_name": "Python 3 (ipykernel)",
   "language": "python",
   "name": "python3"
  },
  "language_info": {
   "codemirror_mode": {
    "name": "ipython",
    "version": 3
   },
   "file_extension": ".py",
   "mimetype": "text/x-python",
   "name": "python",
   "nbconvert_exporter": "python",
   "pygments_lexer": "ipython3",
   "version": "3.9.13"
  }
 },
 "nbformat": 4,
 "nbformat_minor": 5
}
